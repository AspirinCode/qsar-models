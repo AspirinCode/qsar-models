{
 "cells": [
  {
   "cell_type": "code",
   "execution_count": 1,
   "metadata": {},
   "outputs": [
    {
     "name": "stderr",
     "output_type": "stream",
     "text": [
      "/home/jonathan/.local/lib/python3.5/site-packages/statsmodels/compat/pandas.py:56: FutureWarning: The pandas.core.datetools module is deprecated and will be removed in a future version. Please use the pandas.tseries module instead.\n",
      "  from pandas.core import datetools\n"
     ]
    }
   ],
   "source": [
    "import pandas as pd\n",
    "import oplrareg\n",
    "\n",
    "from plotnine import *"
   ]
  },
  {
   "cell_type": "markdown",
   "metadata": {},
   "source": [
    "# 1. OPLRAreg for QSAR\n",
    "\n",
    "OPLRAreg stands for **O**ptimal **P**iecewise **L**inear **R**egression **A**lgorithm with **Reg**ularisation.\n",
    "\n",
    "It is an algorithm based on integer optimisation that identifies a partition feature $f^*$ amongst all features in a data set, $\\mathbf{f}$, to partition the data into a certain number of regions. The outcome variable of each region is predicted by an independent linear equation.\n",
    "\n",
    "`OPLRAreg` can be applied to any regression problem but the main objective of this research project was to develop regression algorithms for QSAR modelling. So the sections below showcase the use of `OPLRAreg` for modelling a data set of inhibitors for the Muscarinic Acetylcholine receptor M3 ([CHRM3](https://www.ebi.ac.uk/chembl/target/inspect/CHEMBL245)). \n"
   ]
  },
  {
   "cell_type": "markdown",
   "metadata": {},
   "source": [
    "# 2. Data Input\n",
    "\n",
    "We have stored our QSAR data sets, with the molecular descriptors already computed and normalised, in spreadsheets:"
   ]
  },
  {
   "cell_type": "code",
   "execution_count": 2,
   "metadata": {},
   "outputs": [
    {
     "data": {
      "text/html": [
       "<div>\n",
       "<style scoped>\n",
       "    .dataframe tbody tr th:only-of-type {\n",
       "        vertical-align: middle;\n",
       "    }\n",
       "\n",
       "    .dataframe tbody tr th {\n",
       "        vertical-align: top;\n",
       "    }\n",
       "\n",
       "    .dataframe thead th {\n",
       "        text-align: right;\n",
       "    }\n",
       "</style>\n",
       "<table border=\"1\" class=\"dataframe\">\n",
       "  <thead>\n",
       "    <tr style=\"text-align: right;\">\n",
       "      <th></th>\n",
       "      <th>BCUTw.1l</th>\n",
       "      <th>BCUTw.1h</th>\n",
       "      <th>BCUTc.1l</th>\n",
       "      <th>BCUTc.1h</th>\n",
       "      <th>BCUTp.1l</th>\n",
       "      <th>BCUTp.1h</th>\n",
       "      <th>XLogP</th>\n",
       "      <th>LipinskiFailures</th>\n",
       "      <th>nRotB</th>\n",
       "      <th>MLogP</th>\n",
       "      <th>...</th>\n",
       "      <th>ATSc2</th>\n",
       "      <th>ATSc3</th>\n",
       "      <th>ATSc4</th>\n",
       "      <th>ATSc5</th>\n",
       "      <th>tpsaEfficiency.1</th>\n",
       "      <th>TopoPSA.1</th>\n",
       "      <th>nHBDon</th>\n",
       "      <th>nHBAcc</th>\n",
       "      <th>bpol</th>\n",
       "      <th>topoShape.1</th>\n",
       "    </tr>\n",
       "  </thead>\n",
       "  <tbody>\n",
       "    <tr>\n",
       "      <th>0</th>\n",
       "      <td>0.965261</td>\n",
       "      <td>0.185698</td>\n",
       "      <td>0.808870</td>\n",
       "      <td>0.216376</td>\n",
       "      <td>0.958955</td>\n",
       "      <td>1.000000</td>\n",
       "      <td>0.549324</td>\n",
       "      <td>0.25</td>\n",
       "      <td>0.129032</td>\n",
       "      <td>0.272727</td>\n",
       "      <td>...</td>\n",
       "      <td>0.944175</td>\n",
       "      <td>0.506263</td>\n",
       "      <td>0.364291</td>\n",
       "      <td>0.461995</td>\n",
       "      <td>0.120790</td>\n",
       "      <td>0.043280</td>\n",
       "      <td>0.000000</td>\n",
       "      <td>0.035714</td>\n",
       "      <td>0.037336</td>\n",
       "      <td>0.000401</td>\n",
       "    </tr>\n",
       "    <tr>\n",
       "      <th>1</th>\n",
       "      <td>0.517799</td>\n",
       "      <td>0.185698</td>\n",
       "      <td>0.622474</td>\n",
       "      <td>0.408470</td>\n",
       "      <td>0.620993</td>\n",
       "      <td>0.372255</td>\n",
       "      <td>0.458677</td>\n",
       "      <td>0.25</td>\n",
       "      <td>0.161290</td>\n",
       "      <td>0.196970</td>\n",
       "      <td>...</td>\n",
       "      <td>0.928098</td>\n",
       "      <td>0.419420</td>\n",
       "      <td>0.278105</td>\n",
       "      <td>0.462516</td>\n",
       "      <td>0.279804</td>\n",
       "      <td>0.112473</td>\n",
       "      <td>0.333333</td>\n",
       "      <td>0.107143</td>\n",
       "      <td>0.068551</td>\n",
       "      <td>0.000401</td>\n",
       "    </tr>\n",
       "    <tr>\n",
       "      <th>2</th>\n",
       "      <td>0.517799</td>\n",
       "      <td>0.185698</td>\n",
       "      <td>0.621402</td>\n",
       "      <td>0.408270</td>\n",
       "      <td>0.622116</td>\n",
       "      <td>0.374085</td>\n",
       "      <td>0.485648</td>\n",
       "      <td>0.25</td>\n",
       "      <td>0.193548</td>\n",
       "      <td>0.227273</td>\n",
       "      <td>...</td>\n",
       "      <td>0.929607</td>\n",
       "      <td>0.490488</td>\n",
       "      <td>0.285431</td>\n",
       "      <td>0.479625</td>\n",
       "      <td>0.283028</td>\n",
       "      <td>0.112473</td>\n",
       "      <td>0.333333</td>\n",
       "      <td>0.107143</td>\n",
       "      <td>0.079811</td>\n",
       "      <td>0.000401</td>\n",
       "    </tr>\n",
       "    <tr>\n",
       "      <th>3</th>\n",
       "      <td>0.517799</td>\n",
       "      <td>0.185698</td>\n",
       "      <td>0.636104</td>\n",
       "      <td>0.408275</td>\n",
       "      <td>0.548497</td>\n",
       "      <td>0.369623</td>\n",
       "      <td>0.426097</td>\n",
       "      <td>0.00</td>\n",
       "      <td>0.161290</td>\n",
       "      <td>0.181818</td>\n",
       "      <td>...</td>\n",
       "      <td>0.921627</td>\n",
       "      <td>0.409878</td>\n",
       "      <td>0.303301</td>\n",
       "      <td>0.516744</td>\n",
       "      <td>0.291487</td>\n",
       "      <td>0.112473</td>\n",
       "      <td>0.333333</td>\n",
       "      <td>0.107143</td>\n",
       "      <td>0.056695</td>\n",
       "      <td>0.000401</td>\n",
       "    </tr>\n",
       "    <tr>\n",
       "      <th>4</th>\n",
       "      <td>0.679612</td>\n",
       "      <td>0.185698</td>\n",
       "      <td>0.619878</td>\n",
       "      <td>0.402434</td>\n",
       "      <td>0.616658</td>\n",
       "      <td>0.369828</td>\n",
       "      <td>0.414220</td>\n",
       "      <td>0.00</td>\n",
       "      <td>0.161290</td>\n",
       "      <td>0.196970</td>\n",
       "      <td>...</td>\n",
       "      <td>0.924157</td>\n",
       "      <td>0.484237</td>\n",
       "      <td>0.407883</td>\n",
       "      <td>0.384908</td>\n",
       "      <td>0.307870</td>\n",
       "      <td>0.112473</td>\n",
       "      <td>0.333333</td>\n",
       "      <td>0.107143</td>\n",
       "      <td>0.056100</td>\n",
       "      <td>0.000401</td>\n",
       "    </tr>\n",
       "  </tbody>\n",
       "</table>\n",
       "<p>5 rows × 94 columns</p>\n",
       "</div>"
      ],
      "text/plain": [
       "   BCUTw.1l  BCUTw.1h  BCUTc.1l  BCUTc.1h  BCUTp.1l  BCUTp.1h     XLogP  \\\n",
       "0  0.965261  0.185698  0.808870  0.216376  0.958955  1.000000  0.549324   \n",
       "1  0.517799  0.185698  0.622474  0.408470  0.620993  0.372255  0.458677   \n",
       "2  0.517799  0.185698  0.621402  0.408270  0.622116  0.374085  0.485648   \n",
       "3  0.517799  0.185698  0.636104  0.408275  0.548497  0.369623  0.426097   \n",
       "4  0.679612  0.185698  0.619878  0.402434  0.616658  0.369828  0.414220   \n",
       "\n",
       "   LipinskiFailures     nRotB     MLogP     ...          ATSc2     ATSc3  \\\n",
       "0              0.25  0.129032  0.272727     ...       0.944175  0.506263   \n",
       "1              0.25  0.161290  0.196970     ...       0.928098  0.419420   \n",
       "2              0.25  0.193548  0.227273     ...       0.929607  0.490488   \n",
       "3              0.00  0.161290  0.181818     ...       0.921627  0.409878   \n",
       "4              0.00  0.161290  0.196970     ...       0.924157  0.484237   \n",
       "\n",
       "      ATSc4     ATSc5  tpsaEfficiency.1  TopoPSA.1    nHBDon    nHBAcc  \\\n",
       "0  0.364291  0.461995          0.120790   0.043280  0.000000  0.035714   \n",
       "1  0.278105  0.462516          0.279804   0.112473  0.333333  0.107143   \n",
       "2  0.285431  0.479625          0.283028   0.112473  0.333333  0.107143   \n",
       "3  0.303301  0.516744          0.291487   0.112473  0.333333  0.107143   \n",
       "4  0.407883  0.384908          0.307870   0.112473  0.333333  0.107143   \n",
       "\n",
       "       bpol  topoShape.1  \n",
       "0  0.037336     0.000401  \n",
       "1  0.068551     0.000401  \n",
       "2  0.079811     0.000401  \n",
       "3  0.056695     0.000401  \n",
       "4  0.056100     0.000401  \n",
       "\n",
       "[5 rows x 94 columns]"
      ]
     },
     "execution_count": 2,
     "metadata": {},
     "output_type": "execute_result"
    }
   ],
   "source": [
    "chrm3 = pd.read_excel(\"../qsar/data/CHRM3.xlsx\", sheet_name=\"normalised_features\")\n",
    "\n",
    "#Molecular Descriptors\n",
    "data = chrm3.iloc[:,:-1]\n",
    "\n",
    "#pIC50 -- the outcome variable\n",
    "target = chrm3.iloc[:, -1]\n",
    "\n",
    "data.head()"
   ]
  },
  {
   "cell_type": "code",
   "execution_count": 16,
   "metadata": {},
   "outputs": [
    {
     "data": {
      "image/png": "[encoded data removed]",
      "text/plain": [
       "<matplotlib.figure.Figure at 0x7f06ff279da0>"
      ]
     },
     "metadata": {},
     "output_type": "display_data"
    },
    {
     "data": {
      "text/plain": [
       "<ggplot: (8729251758961)>"
      ]
     },
     "execution_count": 16,
     "metadata": {},
     "output_type": "execute_result"
    }
   ],
   "source": [
    "ggplot(pd.DataFrame(target), aes(x='target')) + \\\n",
    "    geom_histogram(bins=40) + theme_bw() +\\\n",
    "    xlab(\"pIC50\") + ggtitle(\"Distribution of inhibitory activity in the data set\")"
   ]
  },
  {
   "cell_type": "markdown",
   "metadata": {},
   "source": [
    "# 3. Train Piecewise Regression Algorithm\n",
    "\n",
    "Training this algorithm is simple, OPLRAreg follows the same conventions as `scikit-learn`.\n",
    "\n",
    "Simply pass the data (features) and the outcome to the function `OplraRegularised.fit` and set the parameters as you wish.\n",
    "\n",
    "## 3.1 How the algorithm works\n",
    "\n",
    "The steps involved in the algorithm are the following:\n",
    "\n",
    "1. First the algorithm selects the most relevant features. This is controlled by the parameter $\\lambda$ (`lam`), a large $\\lambda$ will reduce the number of features and the algorithm will run faster.\n",
    "2. Next, the algorithm iterates over the selected features to identify which feature $f^*$ best divides the data into two disjoint regions. \n",
    "3. The algorithm will keep identifying more breakpoints for $f^*$, increasing the number of regions until the error between the predicted and the actual outcome variable is no longer reduced"
   ]
  },
  {
   "cell_type": "markdown",
   "metadata": {},
   "source": [
    "Just as a small example, let us run the algorithm for a large lambda $\\lambda = 0.02$:"
   ]
  },
  {
   "cell_type": "code",
   "execution_count": 24,
   "metadata": {
    "scrolled": false
   },
   "outputs": [
    {
     "name": "stdout",
     "output_type": "stream",
     "text": [
      "OplraRegularised(beta=0.03, epsilon=0.01, exact_number_regions=None, lam=0.02,\n",
      "         solver_name='glpk')\n",
      "########## R = 1\n",
      "SELECTED FEATURES:\n",
      "['nBase', 'nSmallRings', 'nRingBlocks', 'MDEO.12', 'khs.ssCH2', 'khs.aasC', 'khs.sssN', 'khs.aaS', 'FMF', 'VCH.5', 'VCH.6', 'C1SP2', 'C3SP2', 'ATSc4', 'ATSc5']\n",
      "\n",
      "None\n",
      "\n",
      "OplraRegularised(beta=0.03, epsilon=0.01, exact_number_regions=None, lam=0.02,\n",
      "         solver_name='glpk')\n",
      "########## R = 2 f* = nBase (loop 1/15) ###########\n",
      "\n",
      "OplraRegularised(beta=0.03, epsilon=0.01, exact_number_regions=None, lam=0.02,\n",
      "         solver_name='glpk')\n",
      "########## R = 2 f* = nSmallRings (loop 2/15) ###########\n",
      "\n",
      "OplraRegularised(beta=0.03, epsilon=0.01, exact_number_regions=None, lam=0.02,\n",
      "         solver_name='glpk')\n",
      "########## R = 2 f* = nRingBlocks (loop 3/15) ###########\n",
      "\n",
      "OplraRegularised(beta=0.03, epsilon=0.01, exact_number_regions=None, lam=0.02,\n",
      "         solver_name='glpk')\n",
      "########## R = 2 f* = MDEO.12 (loop 4/15) ###########\n",
      "\n",
      "OplraRegularised(beta=0.03, epsilon=0.01, exact_number_regions=None, lam=0.02,\n",
      "         solver_name='glpk')\n",
      "########## R = 2 f* = khs.ssCH2 (loop 5/15) ###########\n",
      "\n",
      "OplraRegularised(beta=0.03, epsilon=0.01, exact_number_regions=None, lam=0.02,\n",
      "         solver_name='glpk')\n",
      "########## R = 2 f* = khs.aasC (loop 6/15) ###########\n",
      "\n",
      "OplraRegularised(beta=0.03, epsilon=0.01, exact_number_regions=None, lam=0.02,\n",
      "         solver_name='glpk')\n",
      "########## R = 2 f* = khs.sssN (loop 7/15) ###########\n",
      "\n",
      "OplraRegularised(beta=0.03, epsilon=0.01, exact_number_regions=None, lam=0.02,\n",
      "         solver_name='glpk')\n",
      "########## R = 2 f* = khs.aaS (loop 8/15) ###########\n",
      "\n",
      "OplraRegularised(beta=0.03, epsilon=0.01, exact_number_regions=None, lam=0.02,\n",
      "         solver_name='glpk')\n",
      "########## R = 2 f* = FMF (loop 9/15) ###########\n",
      "\n",
      "OplraRegularised(beta=0.03, epsilon=0.01, exact_number_regions=None, lam=0.02,\n",
      "         solver_name='glpk')\n",
      "########## R = 2 f* = VCH.5 (loop 10/15) ###########\n",
      "\n",
      "OplraRegularised(beta=0.03, epsilon=0.01, exact_number_regions=None, lam=0.02,\n",
      "         solver_name='glpk')\n",
      "########## R = 2 f* = VCH.6 (loop 11/15) ###########\n",
      "\n",
      "OplraRegularised(beta=0.03, epsilon=0.01, exact_number_regions=None, lam=0.02,\n",
      "         solver_name='glpk')\n",
      "########## R = 2 f* = C1SP2 (loop 12/15) ###########\n",
      "\n",
      "OplraRegularised(beta=0.03, epsilon=0.01, exact_number_regions=None, lam=0.02,\n",
      "         solver_name='glpk')\n",
      "########## R = 2 f* = C3SP2 (loop 13/15) ###########\n",
      "\n",
      "OplraRegularised(beta=0.03, epsilon=0.01, exact_number_regions=None, lam=0.02,\n",
      "         solver_name='glpk')\n",
      "########## R = 2 f* = ATSc4 (loop 14/15) ###########\n",
      "\n",
      "OplraRegularised(beta=0.03, epsilon=0.01, exact_number_regions=None, lam=0.02,\n",
      "         solver_name='glpk')\n",
      "########## R = 2 f* = ATSc5 (loop 15/15) ###########\n",
      "\n",
      "OplraRegularised(beta=0.03, epsilon=0.01, exact_number_regions=None, lam=0.02,\n",
      "         solver_name='glpk')\n",
      "########## R = 3 f* = MDEO.12 ###########\n"
     ]
    },
    {
     "data": {
      "text/plain": [
       "OplraRegularised(beta=0.03, epsilon=0.01, exact_number_regions=None, lam=0.02,\n",
       "         solver_name='glpk')"
      ]
     },
     "execution_count": 24,
     "metadata": {},
     "output_type": "execute_result"
    }
   ],
   "source": [
    "oplra_obj = oplrareg.OplraRegularised(beta=0.03, lam=0.02, solver_name='glpk')\n",
    "oplra_obj.fit(data, target, verbose=True)"
   ]
  },
  {
   "cell_type": "markdown",
   "metadata": {},
   "source": [
    "# 4 Interpreting the results\n",
    "\n",
    "The Mean Absolute Error of the model created was:"
   ]
  },
  {
   "cell_type": "code",
   "execution_count": 40,
   "metadata": {},
   "outputs": [
    {
     "data": {
      "text/plain": [
       "0.799299505501333"
      ]
     },
     "execution_count": 40,
     "metadata": {},
     "output_type": "execute_result"
    }
   ],
   "source": [
    "oplra_obj.final_model.mae.value"
   ]
  },
  {
   "cell_type": "markdown",
   "metadata": {},
   "source": [
    "So, on average, the predictions are wrong by about $~ 0.8$ log units."
   ]
  },
  {
   "cell_type": "markdown",
   "metadata": {},
   "source": [
    "## 4.1 Breakpoints and regions\n",
    "\n",
    "The algorithm has identified two regions for this data set, separated by the breakpoint below:"
   ]
  },
  {
   "cell_type": "code",
   "execution_count": 28,
   "metadata": {},
   "outputs": [
    {
     "data": {
      "text/html": [
       "<div>\n",
       "<style scoped>\n",
       "    .dataframe tbody tr th:only-of-type {\n",
       "        vertical-align: middle;\n",
       "    }\n",
       "\n",
       "    .dataframe tbody tr th {\n",
       "        vertical-align: top;\n",
       "    }\n",
       "\n",
       "    .dataframe thead th {\n",
       "        text-align: right;\n",
       "    }\n",
       "</style>\n",
       "<table border=\"1\" class=\"dataframe\">\n",
       "  <thead>\n",
       "    <tr style=\"text-align: right;\">\n",
       "      <th></th>\n",
       "      <th>breakpoints</th>\n",
       "      <th>fStar</th>\n",
       "    </tr>\n",
       "  </thead>\n",
       "  <tbody>\n",
       "    <tr>\n",
       "      <th>0</th>\n",
       "      <td>0.149347</td>\n",
       "      <td>MDEO.12</td>\n",
       "    </tr>\n",
       "  </tbody>\n",
       "</table>\n",
       "</div>"
      ],
      "text/plain": [
       "   breakpoints    fStar\n",
       "0     0.149347  MDEO.12"
      ]
     },
     "execution_count": 28,
     "metadata": {},
     "output_type": "execute_result"
    }
   ],
   "source": [
    "oplra_obj.get_model_info()[1]"
   ]
  },
  {
   "cell_type": "markdown",
   "metadata": {},
   "source": [
    "This means that all samples with MDEO.12 < 0.1493 will be assigned to a region (`r0`) while the others will be assigned to `r1`:"
   ]
  },
  {
   "cell_type": "code",
   "execution_count": 33,
   "metadata": {},
   "outputs": [],
   "source": [
    "chrm3['region'] = chrm3['MDEO.12'].apply(lambda x: 'r0' if x <= 0.149347 else 'r1')"
   ]
  },
  {
   "cell_type": "code",
   "execution_count": 35,
   "metadata": {},
   "outputs": [
    {
     "data": {
      "image/png": "[encoded data removed]",
      "text/plain": [
       "<matplotlib.figure.Figure at 0x7f06ff4e8710>"
      ]
     },
     "metadata": {},
     "output_type": "display_data"
    },
    {
     "data": {
      "text/plain": [
       "<ggplot: (8729255918235)>"
      ]
     },
     "execution_count": 35,
     "metadata": {},
     "output_type": "execute_result"
    }
   ],
   "source": [
    "ggplot(chrm3, aes(x='MDEO.12', y='pIC50', fill='region')) +\\\n",
    "    geom_point(size=2.5, alpha=0.6)+ theme_bw()"
   ]
  },
  {
   "cell_type": "markdown",
   "metadata": {},
   "source": [
    "## 4.2 Linear equations per region\n",
    "\n",
    "The linear equations per each region can be obtained by `get_model_info`:"
   ]
  },
  {
   "cell_type": "code",
   "execution_count": 36,
   "metadata": {},
   "outputs": [
    {
     "data": {
      "text/html": [
       "<div>\n",
       "<style scoped>\n",
       "    .dataframe tbody tr th:only-of-type {\n",
       "        vertical-align: middle;\n",
       "    }\n",
       "\n",
       "    .dataframe tbody tr th {\n",
       "        vertical-align: top;\n",
       "    }\n",
       "\n",
       "    .dataframe thead th {\n",
       "        text-align: right;\n",
       "    }\n",
       "</style>\n",
       "<table border=\"1\" class=\"dataframe\">\n",
       "  <thead>\n",
       "    <tr style=\"text-align: right;\">\n",
       "      <th></th>\n",
       "      <th>region</th>\n",
       "      <th>nBase</th>\n",
       "      <th>nRingBlocks</th>\n",
       "      <th>khs.aasC</th>\n",
       "      <th>khs.sssN</th>\n",
       "      <th>khs.aaS</th>\n",
       "      <th>FMF</th>\n",
       "      <th>VCH.6</th>\n",
       "      <th>C3SP2</th>\n",
       "      <th>ATSc4</th>\n",
       "      <th>B</th>\n",
       "    </tr>\n",
       "  </thead>\n",
       "  <tbody>\n",
       "    <tr>\n",
       "      <th>0</th>\n",
       "      <td>0</td>\n",
       "      <td>0.000000</td>\n",
       "      <td>0.000000</td>\n",
       "      <td>0.000000</td>\n",
       "      <td>0.000000</td>\n",
       "      <td>0.000000</td>\n",
       "      <td>0.0000</td>\n",
       "      <td>0.000000</td>\n",
       "      <td>0.000000</td>\n",
       "      <td>0.000000</td>\n",
       "      <td>6.300000</td>\n",
       "    </tr>\n",
       "    <tr>\n",
       "      <th>1</th>\n",
       "      <td>1</td>\n",
       "      <td>1.580394</td>\n",
       "      <td>0.872107</td>\n",
       "      <td>-1.003422</td>\n",
       "      <td>-1.085396</td>\n",
       "      <td>0.484951</td>\n",
       "      <td>1.1159</td>\n",
       "      <td>0.314677</td>\n",
       "      <td>-1.439786</td>\n",
       "      <td>0.991323</td>\n",
       "      <td>6.326584</td>\n",
       "    </tr>\n",
       "  </tbody>\n",
       "</table>\n",
       "</div>"
      ],
      "text/plain": [
       "   region     nBase  nRingBlocks  khs.aasC  khs.sssN   khs.aaS     FMF  \\\n",
       "0       0  0.000000     0.000000  0.000000  0.000000  0.000000  0.0000   \n",
       "1       1  1.580394     0.872107 -1.003422 -1.085396  0.484951  1.1159   \n",
       "\n",
       "      VCH.6     C3SP2     ATSc4         B  \n",
       "0  0.000000  0.000000  0.000000  6.300000  \n",
       "1  0.314677 -1.439786  0.991323  6.326584  "
      ]
     },
     "execution_count": 36,
     "metadata": {},
     "output_type": "execute_result"
    }
   ],
   "source": [
    "oplra_obj.get_model_info()[0]"
   ]
  },
  {
   "cell_type": "markdown",
   "metadata": {},
   "source": [
    "Because we use a large regularisation ($\\lambda = 0.02$), only 9 features were selected, out of 94. B is the intercept of the regression.\n",
    "\n",
    "Region `r0` is simply predicted by the formula: $pIC50 = 6.3$ (the average of the points) while region `r1` is predicted by a combination of all 9 selected features."
   ]
  }
 ],
 "metadata": {
  "kernelspec": {
   "display_name": "Python 3",
   "language": "python",
   "name": "python3"
  },
  "language_info": {
   "codemirror_mode": {
    "name": "ipython",
    "version": 3
   },
   "file_extension": ".py",
   "mimetype": "text/x-python",
   "name": "python",
   "nbconvert_exporter": "python",
   "pygments_lexer": "ipython3",
   "version": "3.5.2"
  }
 },
 "nbformat": 4,
 "nbformat_minor": 2
}
